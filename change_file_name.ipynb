{
 "cells": [
  {
   "cell_type": "markdown",
   "metadata": {},
   "source": [
    "Import pachages"
   ]
  },
  {
   "cell_type": "code",
   "execution_count": 59,
   "metadata": {},
   "outputs": [],
   "source": [
    "import os"
   ]
  },
  {
   "cell_type": "markdown",
   "metadata": {},
   "source": [
    "Change file name converntion"
   ]
  },
  {
   "cell_type": "code",
   "execution_count": 60,
   "metadata": {},
   "outputs": [],
   "source": [
    "files_source_path = files_destination_path = 'files/'"
   ]
  },
  {
   "cell_type": "code",
   "execution_count": 61,
   "metadata": {},
   "outputs": [],
   "source": [
    "files_source = os.listdir(files_source_path)"
   ]
  },
  {
   "cell_type": "code",
   "execution_count": 62,
   "metadata": {},
   "outputs": [],
   "source": [
    "for file in files_source:\n",
    "    # convert parts of name info a list of words \n",
    "    filename_parts = file.replace('.', '_').split('_')\n",
    "    # create new name format\n",
    "    filename_new = f\"{filename_parts[2]}_{filename_parts[1]}_{filename_parts[0]}.{filename_parts[3]}\"\n",
    "    # rename file\n",
    "    filename_new_path = f\"{files_destination_path}{filename_new}\"\n",
    "    filename_old_path = f\"{files_source_path}{file}\"\n",
    "    os.rename(filename_old_path, filename_new_path)"
   ]
  }
 ],
 "metadata": {
  "kernelspec": {
   "display_name": "Python 3",
   "language": "python",
   "name": "python3"
  },
  "language_info": {
   "codemirror_mode": {
    "name": "ipython",
    "version": 3
   },
   "file_extension": ".py",
   "mimetype": "text/x-python",
   "name": "python",
   "nbconvert_exporter": "python",
   "pygments_lexer": "ipython3",
   "version": "3.11.6"
  }
 },
 "nbformat": 4,
 "nbformat_minor": 2
}
